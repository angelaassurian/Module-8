{
 "cells": [
  {
   "cell_type": "markdown",
   "metadata": {},
   "source": [
    "### Exercise 1\n",
    "Ask for an exam score and store that number. If the number is greater than 100, then print out 'You cannot have an exam score higher than 100'. If the number doesn't exceeed 100 but is greater than or equal to 75, then print out 'You did great on your exam!'. Otherwise if they scored lower than 75, then print out 'You need to study harder'."
   ]
  },
  {
   "cell_type": "code",
   "execution_count": 6,
   "metadata": {},
   "outputs": [],
   "source": [
    "def examGrade():\n",
    "    grade=int(input(\"What is the exam score?: \"))\n",
    "    if grade>100:\n",
    "        print(\"You cannot have an exam score higher than 100.\")\n",
    "    elif grade >=75:\n",
    "        print(\"You did great on your exam!\")\n",
    "    else:\n",
    "        print(\"You need to study harder.\")\n",
    "    return"
   ]
  },
  {
   "cell_type": "code",
   "execution_count": 7,
   "metadata": {},
   "outputs": [
    {
     "name": "stdout",
     "output_type": "stream",
     "text": [
      "What is the exam score?: 120\n",
      "You cannot have an exam score higher than 100.\n",
      "____________\n",
      "What is the exam score?: 90\n",
      "You did great on your exam!\n",
      "____________\n",
      "What is the exam score?: 75\n",
      "You did great on your exam!\n",
      "____________\n",
      "What is the exam score?: 50\n",
      "You need to study harder.\n"
     ]
    }
   ],
   "source": [
    "examGrade()\n",
    "print(\"____________\")\n",
    "examGrade()\n",
    "print(\"____________\")\n",
    "examGrade()\n",
    "print(\"____________\")\n",
    "examGrade()"
   ]
  },
  {
   "cell_type": "markdown",
   "metadata": {},
   "source": [
    "### Exercise 2\n",
    "Ask a user to enter two numbers and find their average. Then, print out the average and whether each number is below or above average. Determine if a function should be created or not.\n",
    "    "
   ]
  },
  {
   "cell_type": "code",
   "execution_count": 8,
   "metadata": {},
   "outputs": [],
   "source": [
    "def average():\n",
    "    num1=int(input(\"Enter a number: \"))\n",
    "    num2=int(input(\"Enter another number: \"))\n",
    "    avg=(num1+num2)/2\n",
    "    print(f\"The average is {avg}.\")\n",
    "    if num1>avg:\n",
    "        print(f\"{num1} > {avg}\")\n",
    "    elif num1==avg:\n",
    "        print(f\"{num1} = {avg}\")\n",
    "    else:\n",
    "        print(f\"{num1} < {avg}\")   \n",
    "    if num2>avg:\n",
    "        print(f\"{num2} > {avg}\")\n",
    "    elif num2==avg:\n",
    "        print(f\"{num2} = {avg}\")\n",
    "    else:\n",
    "        print(f\"{num2} < {avg}\")\n",
    "    return"
   ]
  },
  {
   "cell_type": "code",
   "execution_count": 9,
   "metadata": {},
   "outputs": [
    {
     "name": "stdout",
     "output_type": "stream",
     "text": [
      "Enter a number: 10\n",
      "Enter another number: 10\n",
      "The average is 10.0.\n",
      "10 = 10.0\n",
      "10 = 10.0\n",
      "____________\n",
      "Enter a number: 100\n",
      "Enter another number: 20\n",
      "The average is 60.0.\n",
      "100 > 60.0\n",
      "20 < 60.0\n",
      "____________\n",
      "Enter a number: 30\n",
      "Enter another number: 50\n",
      "The average is 40.0.\n",
      "30 < 40.0\n",
      "50 > 40.0\n"
     ]
    }
   ],
   "source": [
    "average()\n",
    "print(\"____________\")\n",
    "average()\n",
    "print(\"____________\")\n",
    "average()"
   ]
  },
  {
   "cell_type": "markdown",
   "metadata": {},
   "source": [
    "### Exercise 3\n",
    "Write a function to convert a test score to a grade where  \n",
    " - 90 - 100: A\n",
    " - 80 - 89:  B\n",
    " - 70 - 79:  C\n",
    " - 60 - 69:  D\n",
    " - < 60   :  F\n",
    " \n",
    "If a score is not between 0 and 100 then print out an error message. In the program, ask the user for a score and then call your function. "
   ]
  },
  {
   "cell_type": "code",
   "execution_count": 12,
   "metadata": {},
   "outputs": [],
   "source": [
    "def convertScore():\n",
    "    score=int(input(\"Input your test score: \"))\n",
    "    if score > 100:\n",
    "        print(\"Error\")\n",
    "    elif score >=90:\n",
    "        score=\"A\"\n",
    "        print(score)\n",
    "        score=\"A\"\n",
    "    elif score >=80:\n",
    "        score=\"B\"\n",
    "        print(score)\n",
    "    elif score >=70:\n",
    "        score=\"C\"\n",
    "        print(score)\n",
    "    elif score >=69:\n",
    "        score=\"D\"\n",
    "        print(score)\n",
    "    elif score >=0:\n",
    "        score=\"F\"\n",
    "        print(score)\n",
    "    else:\n",
    "        print(\"Error\")\n",
    "    return"
   ]
  },
  {
   "cell_type": "code",
   "execution_count": 14,
   "metadata": {},
   "outputs": [
    {
     "name": "stdout",
     "output_type": "stream",
     "text": [
      "Input your test score: 120\n",
      "Error\n",
      "____________\n",
      "Input your test score: 99\n",
      "A\n",
      "____________\n",
      "Input your test score: 87\n",
      "B\n",
      "____________\n",
      "Input your test score: 70\n",
      "C\n",
      "____________\n",
      "Input your test score: 61\n",
      "F\n",
      "____________\n",
      "Input your test score: 40\n",
      "F\n",
      "____________\n",
      "Input your test score: -2\n",
      "Error\n",
      "____________\n",
      "Input your test score: 0\n",
      "F\n",
      "____________\n"
     ]
    }
   ],
   "source": [
    "convertScore()\n",
    "print(\"____________\")\n",
    "convertScore()\n",
    "print(\"____________\")\n",
    "convertScore()\n",
    "print(\"____________\")\n",
    "convertScore()\n",
    "print(\"____________\")\n",
    "convertScore()\n",
    "print(\"____________\")\n",
    "convertScore()\n",
    "print(\"____________\")\n",
    "convertScore()\n",
    "print(\"____________\")\n",
    "convertScore()\n",
    "print(\"____________\")"
   ]
  },
  {
   "cell_type": "markdown",
   "metadata": {},
   "source": [
    "### Exercise 4\n",
    "Convert following decimal number to a binary number by hand:\n",
    "\n",
    "    61\n",
    "    15\n",
    "    71\n",
    "    "
   ]
  },
  {
   "cell_type": "code",
   "execution_count": 33,
   "metadata": {},
   "outputs": [
    {
     "name": "stdout",
     "output_type": "stream",
     "text": [
      "30\n",
      "1\n",
      "15\n",
      "0\n",
      "7\n",
      "1\n",
      "3\n",
      "1\n",
      "1\n",
      "1\n",
      "0\n",
      "1\n",
      "61 as binary number is 0b111101\n"
     ]
    }
   ],
   "source": [
    "print(61//2)\n",
    "print(61%2)\n",
    "print(30//2)\n",
    "print(30%2)\n",
    "print(15//2)\n",
    "print(15%2)\n",
    "print(7//2)\n",
    "print(7%2)\n",
    "print(3//2)\n",
    "print(3%2)\n",
    "print(1//2)\n",
    "print(1%2)\n",
    "print(\"61 as binary number is 0b111101\")"
   ]
  },
  {
   "cell_type": "code",
   "execution_count": 34,
   "metadata": {},
   "outputs": [
    {
     "name": "stdout",
     "output_type": "stream",
     "text": [
      "7\n",
      "1\n",
      "3\n",
      "1\n",
      "1\n",
      "1\n",
      "0\n",
      "1\n",
      "15 as binary number is 0b1111\n"
     ]
    }
   ],
   "source": [
    "print(15//2)\n",
    "print(15%2)\n",
    "print(7//2)\n",
    "print(7%2)\n",
    "print(3//2)\n",
    "print(3%2)\n",
    "print(1//2)\n",
    "print(1%2)\n",
    "print(\"15 as binary number is 0b1111\")"
   ]
  },
  {
   "cell_type": "code",
   "execution_count": 36,
   "metadata": {},
   "outputs": [
    {
     "name": "stdout",
     "output_type": "stream",
     "text": [
      "35\n",
      "1\n",
      "17\n",
      "1\n",
      "8\n",
      "1\n",
      "4\n",
      "0\n",
      "2\n",
      "0\n",
      "1\n",
      "0\n",
      "0\n",
      "1\n",
      "71 as binary number is 0b1000111\n"
     ]
    }
   ],
   "source": [
    "print(71//2)\n",
    "print(71%2)\n",
    "print(35//2)\n",
    "print(35%2)\n",
    "print(17//2)\n",
    "print(17%2)\n",
    "print(8//2)\n",
    "print(8%2)\n",
    "print(4//2)\n",
    "print(4%2)\n",
    "print(2//2)\n",
    "print(2%2)\n",
    "print(1//2)\n",
    "print(1%2)\n",
    "print(\"71 as binary number is 0b1000111\")"
   ]
  },
  {
   "cell_type": "markdown",
   "metadata": {},
   "source": [
    "### Exercise 5\n",
    "When a = 61 and b = 15, what is the result of following bitwise opertion? Use inline comments to show your result in a binary number. Find your answer by hand.\n",
    "\n",
    "    a & b\n",
    "    a | b\n",
    "    a ^ b\n",
    "    a >> 2\n",
    "    "
   ]
  },
  {
   "cell_type": "code",
   "execution_count": 37,
   "metadata": {},
   "outputs": [
    {
     "name": "stdout",
     "output_type": "stream",
     "text": [
      "0b111101\n",
      "0b1111\n"
     ]
    }
   ],
   "source": [
    "print(bin(61))\n",
    "print(bin(15))\n",
    "a=61  #0011 1101\n",
    "b=15  #0000 1111"
   ]
  },
  {
   "cell_type": "code",
   "execution_count": 43,
   "metadata": {},
   "outputs": [
    {
     "name": "stdout",
     "output_type": "stream",
     "text": [
      "13\n",
      "0b1101\n"
     ]
    }
   ],
   "source": [
    "#0011 1101\n",
    "#0000 1111\n",
    "#0000 1101 a and b = 13\n",
    "\n",
    "print(a & b)\n",
    "print(bin(13))"
   ]
  },
  {
   "cell_type": "code",
   "execution_count": 44,
   "metadata": {},
   "outputs": [
    {
     "name": "stdout",
     "output_type": "stream",
     "text": [
      "63\n",
      "0b111111\n"
     ]
    }
   ],
   "source": [
    "#0011 1101\n",
    "#0000 1111\n",
    "#0011 1111  a or b = 63\n",
    "print(a | b)\n",
    "print(bin(63))"
   ]
  },
  {
   "cell_type": "code",
   "execution_count": 47,
   "metadata": {},
   "outputs": [
    {
     "name": "stdout",
     "output_type": "stream",
     "text": [
      "50\n",
      "0b110010\n"
     ]
    }
   ],
   "source": [
    "#0011 1101\n",
    "#0000 1111\n",
    "#0011 0010 a xor b=50\n",
    "print(a ^ b)\n",
    "print(bin(50))"
   ]
  },
  {
   "cell_type": "code",
   "execution_count": 48,
   "metadata": {},
   "outputs": [
    {
     "name": "stdout",
     "output_type": "stream",
     "text": [
      "15\n",
      "0b1111\n"
     ]
    }
   ],
   "source": [
    "#0011 1101\n",
    "#0000 1111\n",
    "#0000 1111    #shift to right =15\n",
    "print(a >> 2)\n",
    "print(bin(15))"
   ]
  }
 ],
 "metadata": {
  "kernelspec": {
   "display_name": "Python 3 (ipykernel)",
   "language": "python",
   "name": "python3"
  },
  "language_info": {
   "codemirror_mode": {
    "name": "ipython",
    "version": 3
   },
   "file_extension": ".py",
   "mimetype": "text/x-python",
   "name": "python",
   "nbconvert_exporter": "python",
   "pygments_lexer": "ipython3",
   "version": "3.9.7"
  }
 },
 "nbformat": 4,
 "nbformat_minor": 4
}
